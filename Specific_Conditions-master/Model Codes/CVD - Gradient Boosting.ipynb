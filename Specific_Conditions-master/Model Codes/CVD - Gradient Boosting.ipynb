{
 "cells": [
  {
   "cell_type": "markdown",
   "source": [
    "## IMPORTS"
   ],
   "metadata": {
    "collapsed": false
   }
  },
  {
   "cell_type": "code",
   "execution_count": 1,
   "outputs": [],
   "source": [
    "import pickle\n",
    "import matplotlib.pyplot as plt\n",
    "import pandas as pd\n",
    "import seaborn as sns\n",
    "from numpy import array\n",
    "from sklearn import svm, model_selection\n",
    "from sklearn.ensemble import BaggingClassifier, RandomForestClassifier\n",
    "from sklearn.linear_model import LogisticRegression\n",
    "from sklearn.metrics import average_precision_score, accuracy_score, confusion_matrix, roc_curve, f1_score, auc, \\\n",
    "    precision_recall_curve\n",
    "from sklearn.model_selection import train_test_split\n",
    "from sklearn.neighbors import KNeighborsClassifier\n",
    "from sklearn.neural_network import MLPClassifier\n",
    "from sklearn.preprocessing import LabelEncoder, OneHotEncoder\n"
   ],
   "metadata": {
    "collapsed": false,
    "pycharm": {
     "name": "#%%\n"
    }
   }
  },
  {
   "cell_type": "markdown",
   "source": [
    "# READ CSV"
   ],
   "metadata": {
    "collapsed": false
   }
  },
  {
   "cell_type": "code",
   "execution_count": 2,
   "outputs": [],
   "source": [
    "from sklearn.tree import DecisionTreeClassifier\n",
    "df=pd.read_csv('Data/CVD.csv',sep=';')\n",
    "df['age']=(df['age']/365).round().astype('int')\n",
    "df.drop(['id'],axis=1,inplace=True)\n",
    "df['BMI'] = df['weight']/((df['height']/100)**2)\n"
   ],
   "metadata": {
    "collapsed": false,
    "pycharm": {
     "name": "#%%\n"
    }
   }
  },
  {
   "cell_type": "code",
   "execution_count": 3,
   "outputs": [
    {
     "data": {
      "text/plain": "   age  gender  height  weight  ap_hi  ap_lo  cholesterol  gluc  smoke  alco  \\\n0   50       2     168    62.0    110     80            1     1      0     0   \n1   55       1     156    85.0    140     90            3     1      0     0   \n2   52       1     165    64.0    130     70            3     1      0     0   \n3   48       2     169    82.0    150    100            1     1      0     0   \n4   48       1     156    56.0    100     60            1     1      0     0   \n\n   active  cardio        BMI  \n0       1       0  21.967120  \n1       1       1  34.927679  \n2       0       1  23.507805  \n3       1       1  28.710479  \n4       0       0  23.011177  ",
      "text/html": "<div>\n<style scoped>\n    .dataframe tbody tr th:only-of-type {\n        vertical-align: middle;\n    }\n\n    .dataframe tbody tr th {\n        vertical-align: top;\n    }\n\n    .dataframe thead th {\n        text-align: right;\n    }\n</style>\n<table border=\"1\" class=\"dataframe\">\n  <thead>\n    <tr style=\"text-align: right;\">\n      <th></th>\n      <th>age</th>\n      <th>gender</th>\n      <th>height</th>\n      <th>weight</th>\n      <th>ap_hi</th>\n      <th>ap_lo</th>\n      <th>cholesterol</th>\n      <th>gluc</th>\n      <th>smoke</th>\n      <th>alco</th>\n      <th>active</th>\n      <th>cardio</th>\n      <th>BMI</th>\n    </tr>\n  </thead>\n  <tbody>\n    <tr>\n      <th>0</th>\n      <td>50</td>\n      <td>2</td>\n      <td>168</td>\n      <td>62.0</td>\n      <td>110</td>\n      <td>80</td>\n      <td>1</td>\n      <td>1</td>\n      <td>0</td>\n      <td>0</td>\n      <td>1</td>\n      <td>0</td>\n      <td>21.967120</td>\n    </tr>\n    <tr>\n      <th>1</th>\n      <td>55</td>\n      <td>1</td>\n      <td>156</td>\n      <td>85.0</td>\n      <td>140</td>\n      <td>90</td>\n      <td>3</td>\n      <td>1</td>\n      <td>0</td>\n      <td>0</td>\n      <td>1</td>\n      <td>1</td>\n      <td>34.927679</td>\n    </tr>\n    <tr>\n      <th>2</th>\n      <td>52</td>\n      <td>1</td>\n      <td>165</td>\n      <td>64.0</td>\n      <td>130</td>\n      <td>70</td>\n      <td>3</td>\n      <td>1</td>\n      <td>0</td>\n      <td>0</td>\n      <td>0</td>\n      <td>1</td>\n      <td>23.507805</td>\n    </tr>\n    <tr>\n      <th>3</th>\n      <td>48</td>\n      <td>2</td>\n      <td>169</td>\n      <td>82.0</td>\n      <td>150</td>\n      <td>100</td>\n      <td>1</td>\n      <td>1</td>\n      <td>0</td>\n      <td>0</td>\n      <td>1</td>\n      <td>1</td>\n      <td>28.710479</td>\n    </tr>\n    <tr>\n      <th>4</th>\n      <td>48</td>\n      <td>1</td>\n      <td>156</td>\n      <td>56.0</td>\n      <td>100</td>\n      <td>60</td>\n      <td>1</td>\n      <td>1</td>\n      <td>0</td>\n      <td>0</td>\n      <td>0</td>\n      <td>0</td>\n      <td>23.011177</td>\n    </tr>\n  </tbody>\n</table>\n</div>"
     },
     "execution_count": 3,
     "metadata": {},
     "output_type": "execute_result"
    }
   ],
   "source": [
    "df.head()"
   ],
   "metadata": {
    "collapsed": false,
    "pycharm": {
     "name": "#%%\n"
    }
   }
  },
  {
   "cell_type": "markdown",
   "source": [
    "## DATA ANALYSIS"
   ],
   "metadata": {
    "collapsed": false
   }
  },
  {
   "cell_type": "code",
   "execution_count": 4,
   "outputs": [
    {
     "data": {
      "text/plain": "<matplotlib.axes._subplots.AxesSubplot at 0x2489858fcc8>"
     },
     "execution_count": 4,
     "metadata": {},
     "output_type": "execute_result"
    },
    {
     "data": {
      "text/plain": "<Figure size 432x288 with 1 Axes>",
      "image/png": "[encoded data removed]"
     },
     "metadata": {
      "needs_background": "light"
     },
     "output_type": "display_data"
    }
   ],
   "source": [
    "sns.countplot(data=df, x=df.age, hue=df.cardio)"
   ],
   "metadata": {
    "collapsed": false,
    "pycharm": {
     "name": "#%%\n"
    }
   }
  },
  {
   "cell_type": "code",
   "execution_count": 5,
   "outputs": [
    {
     "data": {
      "text/plain": "<Figure size 762.375x360 with 2 Axes>",
      "image/png": "[encoded data removed]"
     },
     "metadata": {
      "needs_background": "light"
     },
     "output_type": "display_data"
    }
   ],
   "source": [
    "df_long = pd.melt(df, id_vars=['cardio'], value_vars=['cholesterol','gluc', 'smoke', 'alco', 'active'])\n",
    "sns.catplot(x=\"variable\", hue=\"value\", col=\"cardio\",\n",
    "                data=df_long, kind=\"count\");"
   ],
   "metadata": {
    "collapsed": false,
    "pycharm": {
     "name": "#%%\n"
    }
   }
  },
  {
   "cell_type": "code",
   "execution_count": 6,
   "outputs": [
    {
     "data": {
      "text/plain": "<matplotlib.axes._subplots.AxesSubplot at 0x2489b4e2748>"
     },
     "execution_count": 6,
     "metadata": {},
     "output_type": "execute_result"
    },
    {
     "data": {
      "text/plain": "<Figure size 432x288 with 1 Axes>",
      "image/png": "[encoded data removed]"
     },
     "metadata": {
      "needs_background": "light"
     },
     "output_type": "display_data"
    }
   ],
   "source": [
    "sns.boxplot(x='cardio',y='weight',data=df,palette='winter')"
   ],
   "metadata": {
    "collapsed": false,
    "pycharm": {
     "name": "#%%\n"
    }
   }
  },
  {
   "cell_type": "markdown",
   "source": [
    "# DATA PREPROCESSING"
   ],
   "metadata": {
    "collapsed": false
   }
  },
  {
   "cell_type": "code",
   "execution_count": 7,
   "outputs": [
    {
     "data": {
      "text/plain": "False"
     },
     "execution_count": 7,
     "metadata": {},
     "output_type": "execute_result"
    }
   ],
   "source": [
    "df.isnull().values.any()"
   ],
   "metadata": {
    "collapsed": false,
    "pycharm": {
     "name": "#%%\n"
    }
   }
  },
  {
   "cell_type": "code",
   "execution_count": 8,
   "outputs": [
    {
     "data": {
      "text/plain": "                age        gender        height        weight         ap_hi  \\\ncount  70000.000000  70000.000000  70000.000000  70000.000000  70000.000000   \nmean      53.338686      1.349571    164.359229     74.205690    128.817286   \nstd        6.765294      0.476838      8.210126     14.395757    154.011419   \nmin       30.000000      1.000000     55.000000     10.000000   -150.000000   \n25%       48.000000      1.000000    159.000000     65.000000    120.000000   \n50%       54.000000      1.000000    165.000000     72.000000    120.000000   \n75%       58.000000      2.000000    170.000000     82.000000    140.000000   \nmax       65.000000      2.000000    250.000000    200.000000  16020.000000   \n\n              ap_lo   cholesterol          gluc         smoke          alco  \\\ncount  70000.000000  70000.000000  70000.000000  70000.000000  70000.000000   \nmean      96.630414      1.366871      1.226457      0.088129      0.053771   \nstd      188.472530      0.680250      0.572270      0.283484      0.225568   \nmin      -70.000000      1.000000      1.000000      0.000000      0.000000   \n25%       80.000000      1.000000      1.000000      0.000000      0.000000   \n50%       80.000000      1.000000      1.000000      0.000000      0.000000   \n75%       90.000000      2.000000      1.000000      0.000000      0.000000   \nmax    11000.000000      3.000000      3.000000      1.000000      1.000000   \n\n             active        cardio           BMI  \ncount  70000.000000  70000.000000  70000.000000  \nmean       0.803729      0.499700     27.556513  \nstd        0.397179      0.500003      6.091511  \nmin        0.000000      0.000000      3.471784  \n25%        1.000000      0.000000     23.875115  \n50%        1.000000      0.000000     26.374068  \n75%        1.000000      1.000000     30.222222  \nmax        1.000000      1.000000    298.666667  ",
      "text/html": "<div>\n<style scoped>\n    .dataframe tbody tr th:only-of-type {\n        vertical-align: middle;\n    }\n\n    .dataframe tbody tr th {\n        vertical-align: top;\n    }\n\n    .dataframe thead th {\n        text-align: right;\n    }\n</style>\n<table border=\"1\" class=\"dataframe\">\n  <thead>\n    <tr style=\"text-align: right;\">\n      <th></th>\n      <th>age</th>\n      <th>gender</th>\n      <th>height</th>\n      <th>weight</th>\n      <th>ap_hi</th>\n      <th>ap_lo</th>\n      <th>cholesterol</th>\n      <th>gluc</th>\n      <th>smoke</th>\n      <th>alco</th>\n      <th>active</th>\n      <th>cardio</th>\n      <th>BMI</th>\n    </tr>\n  </thead>\n  <tbody>\n    <tr>\n      <th>count</th>\n      <td>70000.000000</td>\n      <td>70000.000000</td>\n      <td>70000.000000</td>\n      <td>70000.000000</td>\n      <td>70000.000000</td>\n      <td>70000.000000</td>\n      <td>70000.000000</td>\n      <td>70000.000000</td>\n      <td>70000.000000</td>\n      <td>70000.000000</td>\n      <td>70000.000000</td>\n      <td>70000.000000</td>\n      <td>70000.000000</td>\n    </tr>\n    <tr>\n      <th>mean</th>\n      <td>53.338686</td>\n      <td>1.349571</td>\n      <td>164.359229</td>\n      <td>74.205690</td>\n      <td>128.817286</td>\n      <td>96.630414</td>\n      <td>1.366871</td>\n      <td>1.226457</td>\n      <td>0.088129</td>\n      <td>0.053771</td>\n      <td>0.803729</td>\n      <td>0.499700</td>\n      <td>27.556513</td>\n    </tr>\n    <tr>\n      <th>std</th>\n      <td>6.765294</td>\n      <td>0.476838</td>\n      <td>8.210126</td>\n      <td>14.395757</td>\n      <td>154.011419</td>\n      <td>188.472530</td>\n      <td>0.680250</td>\n      <td>0.572270</td>\n      <td>0.283484</td>\n      <td>0.225568</td>\n      <td>0.397179</td>\n      <td>0.500003</td>\n      <td>6.091511</td>\n    </tr>\n    <tr>\n      <th>min</th>\n      <td>30.000000</td>\n      <td>1.000000</td>\n      <td>55.000000</td>\n      <td>10.000000</td>\n      <td>-150.000000</td>\n      <td>-70.000000</td>\n      <td>1.000000</td>\n      <td>1.000000</td>\n      <td>0.000000</td>\n      <td>0.000000</td>\n      <td>0.000000</td>\n      <td>0.000000</td>\n      <td>3.471784</td>\n    </tr>\n    <tr>\n      <th>25%</th>\n      <td>48.000000</td>\n      <td>1.000000</td>\n      <td>159.000000</td>\n      <td>65.000000</td>\n      <td>120.000000</td>\n      <td>80.000000</td>\n      <td>1.000000</td>\n      <td>1.000000</td>\n      <td>0.000000</td>\n      <td>0.000000</td>\n      <td>1.000000</td>\n      <td>0.000000</td>\n      <td>23.875115</td>\n    </tr>\n    <tr>\n      <th>50%</th>\n      <td>54.000000</td>\n      <td>1.000000</td>\n      <td>165.000000</td>\n      <td>72.000000</td>\n      <td>120.000000</td>\n      <td>80.000000</td>\n      <td>1.000000</td>\n      <td>1.000000</td>\n      <td>0.000000</td>\n      <td>0.000000</td>\n      <td>1.000000</td>\n      <td>0.000000</td>\n      <td>26.374068</td>\n    </tr>\n    <tr>\n      <th>75%</th>\n      <td>58.000000</td>\n      <td>2.000000</td>\n      <td>170.000000</td>\n      <td>82.000000</td>\n      <td>140.000000</td>\n      <td>90.000000</td>\n      <td>2.000000</td>\n      <td>1.000000</td>\n      <td>0.000000</td>\n      <td>0.000000</td>\n      <td>1.000000</td>\n      <td>1.000000</td>\n      <td>30.222222</td>\n    </tr>\n    <tr>\n      <th>max</th>\n      <td>65.000000</td>\n      <td>2.000000</td>\n      <td>250.000000</td>\n      <td>200.000000</td>\n      <td>16020.000000</td>\n      <td>11000.000000</td>\n      <td>3.000000</td>\n      <td>3.000000</td>\n      <td>1.000000</td>\n      <td>1.000000</td>\n      <td>1.000000</td>\n      <td>1.000000</td>\n      <td>298.666667</td>\n    </tr>\n  </tbody>\n</table>\n</div>"
     },
     "execution_count": 8,
     "metadata": {},
     "output_type": "execute_result"
    }
   ],
   "source": [
    "df.describe()"
   ],
   "metadata": {
    "collapsed": false,
    "pycharm": {
     "name": "#%%\n"
    }
   }
  },
  {
   "cell_type": "code",
   "execution_count": 9,
   "outputs": [
    {
     "data": {
      "text/plain": "       age  gender  height  weight  ap_hi  ap_lo  cholesterol  gluc  smoke  \\\n228     48       2     183    98.0    160   1100            1     2      1   \n241     60       2     157    60.0    160   1000            2     1      0   \n260     50       1     150    83.0    140    800            1     1      0   \n329     64       1     176    63.0    160   1000            2     2      0   \n345     51       1     154    81.0    140   1000            2     1      0   \n...    ...     ...     ...     ...    ...    ...          ...   ...    ...   \n69771   64       1     167    81.0    160   1000            1     1      0   \n69872   60       1     152    56.0    160   1000            1     1      0   \n69878   58       2     168    95.0    160   1000            1     1      0   \n69885   61       2     166    78.0    170   1000            1     1      0   \n69967   59       2     168    63.0    140   1000            1     1      0   \n\n       alco  active  cardio        BMI  \n228       0       1       1  29.263340  \n241       0       0       1  24.341758  \n260       0       1       1  36.888889  \n329       0       0       1  20.338326  \n345       0       1       1  34.154158  \n...     ...     ...     ...        ...  \n69771     0       1       1  29.043709  \n69872     0       1       1  24.238227  \n69878     0       1       1  33.659297  \n69885     0       0       0  28.305995  \n69967     0       1       1  22.321429  \n\n[1234 rows x 13 columns]",
      "text/html": "<div>\n<style scoped>\n    .dataframe tbody tr th:only-of-type {\n        vertical-align: middle;\n    }\n\n    .dataframe tbody tr th {\n        vertical-align: top;\n    }\n\n    .dataframe thead th {\n        text-align: right;\n    }\n</style>\n<table border=\"1\" class=\"dataframe\">\n  <thead>\n    <tr style=\"text-align: right;\">\n      <th></th>\n      <th>age</th>\n      <th>gender</th>\n      <th>height</th>\n      <th>weight</th>\n      <th>ap_hi</th>\n      <th>ap_lo</th>\n      <th>cholesterol</th>\n      <th>gluc</th>\n      <th>smoke</th>\n      <th>alco</th>\n      <th>active</th>\n      <th>cardio</th>\n      <th>BMI</th>\n    </tr>\n  </thead>\n  <tbody>\n    <tr>\n      <th>228</th>\n      <td>48</td>\n      <td>2</td>\n      <td>183</td>\n      <td>98.0</td>\n      <td>160</td>\n      <td>1100</td>\n      <td>1</td>\n      <td>2</td>\n      <td>1</td>\n      <td>0</td>\n      <td>1</td>\n      <td>1</td>\n      <td>29.263340</td>\n    </tr>\n    <tr>\n      <th>241</th>\n      <td>60</td>\n      <td>2</td>\n      <td>157</td>\n      <td>60.0</td>\n      <td>160</td>\n      <td>1000</td>\n      <td>2</td>\n      <td>1</td>\n      <td>0</td>\n      <td>0</td>\n      <td>0</td>\n      <td>1</td>\n      <td>24.341758</td>\n    </tr>\n    <tr>\n      <th>260</th>\n      <td>50</td>\n      <td>1</td>\n      <td>150</td>\n      <td>83.0</td>\n      <td>140</td>\n      <td>800</td>\n      <td>1</td>\n      <td>1</td>\n      <td>0</td>\n      <td>0</td>\n      <td>1</td>\n      <td>1</td>\n      <td>36.888889</td>\n    </tr>\n    <tr>\n      <th>329</th>\n      <td>64</td>\n      <td>1</td>\n      <td>176</td>\n      <td>63.0</td>\n      <td>160</td>\n      <td>1000</td>\n      <td>2</td>\n      <td>2</td>\n      <td>0</td>\n      <td>0</td>\n      <td>0</td>\n      <td>1</td>\n      <td>20.338326</td>\n    </tr>\n    <tr>\n      <th>345</th>\n      <td>51</td>\n      <td>1</td>\n      <td>154</td>\n      <td>81.0</td>\n      <td>140</td>\n      <td>1000</td>\n      <td>2</td>\n      <td>1</td>\n      <td>0</td>\n      <td>0</td>\n      <td>1</td>\n      <td>1</td>\n      <td>34.154158</td>\n    </tr>\n    <tr>\n      <th>...</th>\n      <td>...</td>\n      <td>...</td>\n      <td>...</td>\n      <td>...</td>\n      <td>...</td>\n      <td>...</td>\n      <td>...</td>\n      <td>...</td>\n      <td>...</td>\n      <td>...</td>\n      <td>...</td>\n      <td>...</td>\n      <td>...</td>\n    </tr>\n    <tr>\n      <th>69771</th>\n      <td>64</td>\n      <td>1</td>\n      <td>167</td>\n      <td>81.0</td>\n      <td>160</td>\n      <td>1000</td>\n      <td>1</td>\n      <td>1</td>\n      <td>0</td>\n      <td>0</td>\n      <td>1</td>\n      <td>1</td>\n      <td>29.043709</td>\n    </tr>\n    <tr>\n      <th>69872</th>\n      <td>60</td>\n      <td>1</td>\n      <td>152</td>\n      <td>56.0</td>\n      <td>160</td>\n      <td>1000</td>\n      <td>1</td>\n      <td>1</td>\n      <td>0</td>\n      <td>0</td>\n      <td>1</td>\n      <td>1</td>\n      <td>24.238227</td>\n    </tr>\n    <tr>\n      <th>69878</th>\n      <td>58</td>\n      <td>2</td>\n      <td>168</td>\n      <td>95.0</td>\n      <td>160</td>\n      <td>1000</td>\n      <td>1</td>\n      <td>1</td>\n      <td>0</td>\n      <td>0</td>\n      <td>1</td>\n      <td>1</td>\n      <td>33.659297</td>\n    </tr>\n    <tr>\n      <th>69885</th>\n      <td>61</td>\n      <td>2</td>\n      <td>166</td>\n      <td>78.0</td>\n      <td>170</td>\n      <td>1000</td>\n      <td>1</td>\n      <td>1</td>\n      <td>0</td>\n      <td>0</td>\n      <td>0</td>\n      <td>0</td>\n      <td>28.305995</td>\n    </tr>\n    <tr>\n      <th>69967</th>\n      <td>59</td>\n      <td>2</td>\n      <td>168</td>\n      <td>63.0</td>\n      <td>140</td>\n      <td>1000</td>\n      <td>1</td>\n      <td>1</td>\n      <td>0</td>\n      <td>0</td>\n      <td>1</td>\n      <td>1</td>\n      <td>22.321429</td>\n    </tr>\n  </tbody>\n</table>\n<p>1234 rows × 13 columns</p>\n</div>"
     },
     "execution_count": 9,
     "metadata": {},
     "output_type": "execute_result"
    }
   ],
   "source": [
    "df[df.ap_lo>df.ap_hi]"
   ],
   "metadata": {
    "collapsed": false,
    "pycharm": {
     "name": "#%%\n"
    }
   }
  },
  {
   "cell_type": "code",
   "execution_count": 10,
   "outputs": [
    {
     "data": {
      "text/plain": "       age  gender  height  weight  ap_hi  ap_lo  cholesterol  gluc  smoke  \\\n33817   59       2     178    11.0    130     90            1     1      0   \n57858   52       2     165    10.0    180   1100            2     2      0   \n29488   56       2     177    22.0    120     80            1     1      1   \n60188   60       1     162    21.0    120     80            2     1      0   \n26806   64       1     157    23.0    110     80            1     1      0   \n...    ...     ...     ...     ...    ...    ...          ...   ...    ...   \n29157   52       1      60    69.0    110     70            1     1      0   \n23913   52       1      81   156.0    140     90            1     1      0   \n22723   64       1      55    81.0    130     90            1     1      0   \n27384   42       1      80   178.0    140     90            3     3      0   \n12770   54       1      75   168.0    120     80            1     1      1   \n\n       alco  active  cardio         BMI  \n33817     0       1       1    3.471784  \n57858     0       1       1    3.673095  \n29488     1       1       0    7.022248  \n60188     0       1       1    8.001829  \n26806     0       1       0    9.331007  \n...     ...     ...     ...         ...  \n29157     0       0       0  191.666667  \n23913     0       1       0  237.768633  \n22723     0       1       1  267.768595  \n27384     0       1       1  278.125000  \n12770     0       1       1  298.666667  \n\n[70000 rows x 13 columns]",
      "text/html": "<div>\n<style scoped>\n    .dataframe tbody tr th:only-of-type {\n        vertical-align: middle;\n    }\n\n    .dataframe tbody tr th {\n        vertical-align: top;\n    }\n\n    .dataframe thead th {\n        text-align: right;\n    }\n</style>\n<table border=\"1\" class=\"dataframe\">\n  <thead>\n    <tr style=\"text-align: right;\">\n      <th></th>\n      <th>age</th>\n      <th>gender</th>\n      <th>height</th>\n      <th>weight</th>\n      <th>ap_hi</th>\n      <th>ap_lo</th>\n      <th>cholesterol</th>\n      <th>gluc</th>\n      <th>smoke</th>\n      <th>alco</th>\n      <th>active</th>\n      <th>cardio</th>\n      <th>BMI</th>\n    </tr>\n  </thead>\n  <tbody>\n    <tr>\n      <th>33817</th>\n      <td>59</td>\n      <td>2</td>\n      <td>178</td>\n      <td>11.0</td>\n      <td>130</td>\n      <td>90</td>\n      <td>1</td>\n      <td>1</td>\n      <td>0</td>\n      <td>0</td>\n      <td>1</td>\n      <td>1</td>\n      <td>3.471784</td>\n    </tr>\n    <tr>\n      <th>57858</th>\n      <td>52</td>\n      <td>2</td>\n      <td>165</td>\n      <td>10.0</td>\n      <td>180</td>\n      <td>1100</td>\n      <td>2</td>\n      <td>2</td>\n      <td>0</td>\n      <td>0</td>\n      <td>1</td>\n      <td>1</td>\n      <td>3.673095</td>\n    </tr>\n    <tr>\n      <th>29488</th>\n      <td>56</td>\n      <td>2</td>\n      <td>177</td>\n      <td>22.0</td>\n      <td>120</td>\n      <td>80</td>\n      <td>1</td>\n      <td>1</td>\n      <td>1</td>\n      <td>1</td>\n      <td>1</td>\n      <td>0</td>\n      <td>7.022248</td>\n    </tr>\n    <tr>\n      <th>60188</th>\n      <td>60</td>\n      <td>1</td>\n      <td>162</td>\n      <td>21.0</td>\n      <td>120</td>\n      <td>80</td>\n      <td>2</td>\n      <td>1</td>\n      <td>0</td>\n      <td>0</td>\n      <td>1</td>\n      <td>1</td>\n      <td>8.001829</td>\n    </tr>\n    <tr>\n      <th>26806</th>\n      <td>64</td>\n      <td>1</td>\n      <td>157</td>\n      <td>23.0</td>\n      <td>110</td>\n      <td>80</td>\n      <td>1</td>\n      <td>1</td>\n      <td>0</td>\n      <td>0</td>\n      <td>1</td>\n      <td>0</td>\n      <td>9.331007</td>\n    </tr>\n    <tr>\n      <th>...</th>\n      <td>...</td>\n      <td>...</td>\n      <td>...</td>\n      <td>...</td>\n      <td>...</td>\n      <td>...</td>\n      <td>...</td>\n      <td>...</td>\n      <td>...</td>\n      <td>...</td>\n      <td>...</td>\n      <td>...</td>\n      <td>...</td>\n    </tr>\n    <tr>\n      <th>29157</th>\n      <td>52</td>\n      <td>1</td>\n      <td>60</td>\n      <td>69.0</td>\n      <td>110</td>\n      <td>70</td>\n      <td>1</td>\n      <td>1</td>\n      <td>0</td>\n      <td>0</td>\n      <td>0</td>\n      <td>0</td>\n      <td>191.666667</td>\n    </tr>\n    <tr>\n      <th>23913</th>\n      <td>52</td>\n      <td>1</td>\n      <td>81</td>\n      <td>156.0</td>\n      <td>140</td>\n      <td>90</td>\n      <td>1</td>\n      <td>1</td>\n      <td>0</td>\n      <td>0</td>\n      <td>1</td>\n      <td>0</td>\n      <td>237.768633</td>\n    </tr>\n    <tr>\n      <th>22723</th>\n      <td>64</td>\n      <td>1</td>\n      <td>55</td>\n      <td>81.0</td>\n      <td>130</td>\n      <td>90</td>\n      <td>1</td>\n      <td>1</td>\n      <td>0</td>\n      <td>0</td>\n      <td>1</td>\n      <td>1</td>\n      <td>267.768595</td>\n    </tr>\n    <tr>\n      <th>27384</th>\n      <td>42</td>\n      <td>1</td>\n      <td>80</td>\n      <td>178.0</td>\n      <td>140</td>\n      <td>90</td>\n      <td>3</td>\n      <td>3</td>\n      <td>0</td>\n      <td>0</td>\n      <td>1</td>\n      <td>1</td>\n      <td>278.125000</td>\n    </tr>\n    <tr>\n      <th>12770</th>\n      <td>54</td>\n      <td>1</td>\n      <td>75</td>\n      <td>168.0</td>\n      <td>120</td>\n      <td>80</td>\n      <td>1</td>\n      <td>1</td>\n      <td>1</td>\n      <td>0</td>\n      <td>1</td>\n      <td>1</td>\n      <td>298.666667</td>\n    </tr>\n  </tbody>\n</table>\n<p>70000 rows × 13 columns</p>\n</div>"
     },
     "execution_count": 10,
     "metadata": {},
     "output_type": "execute_result"
    }
   ],
   "source": [
    "df.sort_values('BMI')"
   ],
   "metadata": {
    "collapsed": false,
    "pycharm": {
     "name": "#%%\n"
    }
   }
  },
  {
   "cell_type": "code",
   "execution_count": 11,
   "outputs": [
    {
     "name": "stdout",
     "output_type": "stream",
     "text": [
      "       age  gender  height  weight  ap_hi  ap_lo  cholesterol  gluc  smoke  \\\n",
      "0       50       2     168    62.0    110     80            1     1      0   \n",
      "1       55       1     156    85.0    140     90            3     1      0   \n",
      "2       52       1     165    64.0    130     70            3     1      0   \n",
      "3       48       2     169    82.0    150    100            1     1      0   \n",
      "4       48       1     156    56.0    100     60            1     1      0   \n",
      "...    ...     ...     ...     ...    ...    ...          ...   ...    ...   \n",
      "69994   58       1     165    80.0    150     80            1     1      0   \n",
      "69995   53       2     168    76.0    120     80            1     1      1   \n",
      "69997   52       2     183   105.0    180     90            3     1      0   \n",
      "69998   61       1     163    72.0    135     80            1     2      0   \n",
      "69999   56       1     170    72.0    120     80            2     1      0   \n",
      "\n",
      "       alco  active  cardio        BMI  \n",
      "0         0       1       0  21.967120  \n",
      "1         0       1       1  34.927679  \n",
      "2         0       0       1  23.507805  \n",
      "3         0       1       1  28.710479  \n",
      "4         0       0       0  23.011177  \n",
      "...     ...     ...     ...        ...  \n",
      "69994     0       1       1  29.384757  \n",
      "69995     0       1       0  26.927438  \n",
      "69997     1       0       1  31.353579  \n",
      "69998     0       0       1  27.099251  \n",
      "69999     0       1       0  24.913495  \n",
      "\n",
      "[64536 rows x 13 columns]\n"
     ]
    }
   ],
   "source": [
    "df.drop(df[(df['height'] > df['height'].quantile(0.99)) | (df['height'] < df['height'].quantile(0.01))].index,inplace=True)\n",
    "df.drop(df[(df['weight'] > df['weight'].quantile(0.99)) | (df['weight'] < df['weight'].quantile(0.01))].index,inplace=True)\n",
    "df.drop(df[(df['ap_hi'] > df['ap_hi'].quantile(0.99)) | (df['ap_hi'] < df['ap_hi'].quantile(0.01))].index,inplace=True)\n",
    "df.drop(df[(df['ap_lo'] > df['ap_lo'].quantile(0.99)) | (df['ap_lo'] < df['ap_lo'].quantile(0.01))].index,inplace=True)\n",
    "\n",
    "df = df[df.ap_hi >= df.ap_lo]\n",
    "df.drop(df[(df['BMI'] > df['BMI'].quantile(0.99))| (df['BMI'] < df['BMI'].quantile(0.01))].index,inplace=True)\n",
    "\n",
    "print(df)"
   ],
   "metadata": {
    "collapsed": false,
    "pycharm": {
     "name": "#%%\n"
    }
   }
  },
  {
   "cell_type": "code",
   "execution_count": 12,
   "outputs": [
    {
     "data": {
      "text/plain": "                age        gender        height        weight         ap_hi  \\\ncount  64536.000000  64536.000000  64536.000000  64536.000000  64536.000000   \nmean      53.344319      1.350378    164.498296     73.660606    126.397468   \nstd        6.752775      0.477092      7.280147     12.355998     15.781663   \nmin       30.000000      1.000000    147.000000     48.000000     90.000000   \n25%       48.000000      1.000000    159.000000     65.000000    120.000000   \n50%       54.000000      1.000000    165.000000     72.000000    120.000000   \n75%       58.000000      2.000000    170.000000     81.000000    140.000000   \nmax       65.000000      2.000000    184.000000    117.000000    180.000000   \n\n              ap_lo   cholesterol          gluc         smoke          alco  \\\ncount  64536.000000  64536.000000  64536.000000  64536.000000  64536.000000   \nmean      81.265449      1.358606      1.222248      0.086990      0.052622   \nstd        9.066314      0.674656      0.568528      0.281823      0.223279   \nmin       60.000000      1.000000      1.000000      0.000000      0.000000   \n25%       80.000000      1.000000      1.000000      0.000000      0.000000   \n50%       80.000000      1.000000      1.000000      0.000000      0.000000   \n75%       90.000000      1.000000      1.000000      0.000000      0.000000   \nmax      150.000000      3.000000      3.000000      1.000000      1.000000   \n\n             active        cardio           BMI  \ncount  64536.000000  64536.000000  64536.000000  \nmean       0.803923      0.493616     27.246120  \nstd        0.397030      0.499963      4.434556  \nmin        0.000000      0.000000     19.252620  \n25%        1.000000      0.000000     23.875115  \n50%        1.000000      0.000000     26.298488  \n75%        1.000000      1.000000     29.996713  \nmax        1.000000      1.000000     41.502301  ",
      "text/html": "<div>\n<style scoped>\n    .dataframe tbody tr th:only-of-type {\n        vertical-align: middle;\n    }\n\n    .dataframe tbody tr th {\n        vertical-align: top;\n    }\n\n    .dataframe thead th {\n        text-align: right;\n    }\n</style>\n<table border=\"1\" class=\"dataframe\">\n  <thead>\n    <tr style=\"text-align: right;\">\n      <th></th>\n      <th>age</th>\n      <th>gender</th>\n      <th>height</th>\n      <th>weight</th>\n      <th>ap_hi</th>\n      <th>ap_lo</th>\n      <th>cholesterol</th>\n      <th>gluc</th>\n      <th>smoke</th>\n      <th>alco</th>\n      <th>active</th>\n      <th>cardio</th>\n      <th>BMI</th>\n    </tr>\n  </thead>\n  <tbody>\n    <tr>\n      <th>count</th>\n      <td>64536.000000</td>\n      <td>64536.000000</td>\n      <td>64536.000000</td>\n      <td>64536.000000</td>\n      <td>64536.000000</td>\n      <td>64536.000000</td>\n      <td>64536.000000</td>\n      <td>64536.000000</td>\n      <td>64536.000000</td>\n      <td>64536.000000</td>\n      <td>64536.000000</td>\n      <td>64536.000000</td>\n      <td>64536.000000</td>\n    </tr>\n    <tr>\n      <th>mean</th>\n      <td>53.344319</td>\n      <td>1.350378</td>\n      <td>164.498296</td>\n      <td>73.660606</td>\n      <td>126.397468</td>\n      <td>81.265449</td>\n      <td>1.358606</td>\n      <td>1.222248</td>\n      <td>0.086990</td>\n      <td>0.052622</td>\n      <td>0.803923</td>\n      <td>0.493616</td>\n      <td>27.246120</td>\n    </tr>\n    <tr>\n      <th>std</th>\n      <td>6.752775</td>\n      <td>0.477092</td>\n      <td>7.280147</td>\n      <td>12.355998</td>\n      <td>15.781663</td>\n      <td>9.066314</td>\n      <td>0.674656</td>\n      <td>0.568528</td>\n      <td>0.281823</td>\n      <td>0.223279</td>\n      <td>0.397030</td>\n      <td>0.499963</td>\n      <td>4.434556</td>\n    </tr>\n    <tr>\n      <th>min</th>\n      <td>30.000000</td>\n      <td>1.000000</td>\n      <td>147.000000</td>\n      <td>48.000000</td>\n      <td>90.000000</td>\n      <td>60.000000</td>\n      <td>1.000000</td>\n      <td>1.000000</td>\n      <td>0.000000</td>\n      <td>0.000000</td>\n      <td>0.000000</td>\n      <td>0.000000</td>\n      <td>19.252620</td>\n    </tr>\n    <tr>\n      <th>25%</th>\n      <td>48.000000</td>\n      <td>1.000000</td>\n      <td>159.000000</td>\n      <td>65.000000</td>\n      <td>120.000000</td>\n      <td>80.000000</td>\n      <td>1.000000</td>\n      <td>1.000000</td>\n      <td>0.000000</td>\n      <td>0.000000</td>\n      <td>1.000000</td>\n      <td>0.000000</td>\n      <td>23.875115</td>\n    </tr>\n    <tr>\n      <th>50%</th>\n      <td>54.000000</td>\n      <td>1.000000</td>\n      <td>165.000000</td>\n      <td>72.000000</td>\n      <td>120.000000</td>\n      <td>80.000000</td>\n      <td>1.000000</td>\n      <td>1.000000</td>\n      <td>0.000000</td>\n      <td>0.000000</td>\n      <td>1.000000</td>\n      <td>0.000000</td>\n      <td>26.298488</td>\n    </tr>\n    <tr>\n      <th>75%</th>\n      <td>58.000000</td>\n      <td>2.000000</td>\n      <td>170.000000</td>\n      <td>81.000000</td>\n      <td>140.000000</td>\n      <td>90.000000</td>\n      <td>1.000000</td>\n      <td>1.000000</td>\n      <td>0.000000</td>\n      <td>0.000000</td>\n      <td>1.000000</td>\n      <td>1.000000</td>\n      <td>29.996713</td>\n    </tr>\n    <tr>\n      <th>max</th>\n      <td>65.000000</td>\n      <td>2.000000</td>\n      <td>184.000000</td>\n      <td>117.000000</td>\n      <td>180.000000</td>\n      <td>150.000000</td>\n      <td>3.000000</td>\n      <td>3.000000</td>\n      <td>1.000000</td>\n      <td>1.000000</td>\n      <td>1.000000</td>\n      <td>1.000000</td>\n      <td>41.502301</td>\n    </tr>\n  </tbody>\n</table>\n</div>"
     },
     "execution_count": 12,
     "metadata": {},
     "output_type": "execute_result"
    }
   ],
   "source": [
    "df.describe()"
   ],
   "metadata": {
    "collapsed": false,
    "pycharm": {
     "name": "#%%\n"
    }
   }
  },
  {
   "cell_type": "markdown",
   "source": [
    "### ONE HOT ENCODING"
   ],
   "metadata": {
    "collapsed": false
   }
  },
  {
   "cell_type": "code",
   "execution_count": 13,
   "outputs": [],
   "source": [
    "values = array(df['cholesterol'])\n",
    "\n",
    "label_encoder = LabelEncoder()\n",
    "integer_encoded = label_encoder.fit_transform(values)\n",
    "onehot_encoder = OneHotEncoder(sparse=False)\n",
    "integer_encoded = integer_encoded.reshape(len(integer_encoded), 1)\n",
    "onehot_encoded = onehot_encoder.fit_transform(integer_encoded)"
   ],
   "metadata": {
    "collapsed": false,
    "pycharm": {
     "name": "#%%\n"
    }
   }
  },
  {
   "cell_type": "code",
   "execution_count": 14,
   "outputs": [],
   "source": [
    "a=[]\n",
    "b=[]\n",
    "c=[]\n",
    "for i in onehot_encoded:\n",
    "  a.append(i[0])\n",
    "  b.append(i[1])\n",
    "  c.append(i[2])\n",
    "df['chol1'] = a\n",
    "df['chol2']=b\n",
    "df['chol3']=c\n",
    "\n",
    "df.drop(['cholesterol'],axis=1,inplace=True)"
   ],
   "metadata": {
    "collapsed": false,
    "pycharm": {
     "name": "#%%\n"
    }
   }
  },
  {
   "cell_type": "code",
   "execution_count": 15,
   "outputs": [],
   "source": [
    "gluc=pd.get_dummies(df['gluc'],prefix='gluc')\n",
    "df=pd.concat([df,gluc],axis=1)\n",
    "df.drop(['gluc'],axis=1,inplace=True)"
   ],
   "metadata": {
    "collapsed": false,
    "pycharm": {
     "name": "#%%\n"
    }
   }
  },
  {
   "cell_type": "code",
   "execution_count": 16,
   "outputs": [],
   "source": [
    "df['BMI']=df['BMI'].round().astype('int')\n",
    "df['chol1']=df['chol1'].astype('int')\n",
    "df['chol2']=df['chol2'].astype('int')\n",
    "df['chol3']=df['chol3'].astype('int')"
   ],
   "metadata": {
    "collapsed": false,
    "pycharm": {
     "name": "#%%\n"
    }
   }
  },
  {
   "cell_type": "code",
   "execution_count": 17,
   "outputs": [
    {
     "data": {
      "text/plain": "Index(['age', 'gender', 'height', 'weight', 'ap_hi', 'ap_lo', 'smoke', 'alco',\n       'active', 'BMI', 'chol1', 'chol2', 'chol3', 'gluc_1', 'gluc_2',\n       'gluc_3'],\n      dtype='object')"
     },
     "execution_count": 17,
     "metadata": {},
     "output_type": "execute_result"
    }
   ],
   "source": [
    "cols=df.columns.drop(['cardio'])\n",
    "cols"
   ],
   "metadata": {
    "collapsed": false,
    "pycharm": {
     "name": "#%%\n"
    }
   }
  },
  {
   "cell_type": "code",
   "execution_count": 18,
   "outputs": [],
   "source": [
    "df.drop(df[df.duplicated(cols)].index,inplace=True)"
   ],
   "metadata": {
    "collapsed": false,
    "pycharm": {
     "name": "#%%\n"
    }
   }
  },
  {
   "cell_type": "code",
   "execution_count": 19,
   "outputs": [
    {
     "data": {
      "text/plain": "age       59166\ngender    59166\nheight    59166\nweight    59166\nap_hi     59166\nap_lo     59166\nsmoke     59166\nalco      59166\nactive    59166\ncardio    59166\nBMI       59166\nchol1     59166\nchol2     59166\nchol3     59166\ngluc_1    59166\ngluc_2    59166\ngluc_3    59166\ndtype: int64"
     },
     "execution_count": 19,
     "metadata": {},
     "output_type": "execute_result"
    }
   ],
   "source": [
    "df.count()"
   ],
   "metadata": {
    "collapsed": false,
    "pycharm": {
     "name": "#%%\n"
    }
   }
  },
  {
   "cell_type": "code",
   "execution_count": 20,
   "outputs": [
    {
     "data": {
      "text/plain": "       age  gender  height  weight  ap_hi  ap_lo  smoke  alco  active  cardio  \\\n0       50       2     168    62.0    110     80      0     0       1       0   \n1       55       1     156    85.0    140     90      0     0       1       1   \n2       52       1     165    64.0    130     70      0     0       0       1   \n3       48       2     169    82.0    150    100      0     0       1       1   \n4       48       1     156    56.0    100     60      0     0       0       0   \n...    ...     ...     ...     ...    ...    ...    ...   ...     ...     ...   \n69994   58       1     165    80.0    150     80      0     0       1       1   \n69995   53       2     168    76.0    120     80      1     0       1       0   \n69997   52       2     183   105.0    180     90      0     1       0       1   \n69998   61       1     163    72.0    135     80      0     0       0       1   \n69999   56       1     170    72.0    120     80      0     0       1       0   \n\n       BMI  chol1  chol2  chol3  gluc_1  gluc_2  gluc_3  \n0       22      1      0      0       1       0       0  \n1       35      0      0      1       1       0       0  \n2       24      0      0      1       1       0       0  \n3       29      1      0      0       1       0       0  \n4       23      1      0      0       1       0       0  \n...    ...    ...    ...    ...     ...     ...     ...  \n69994   29      1      0      0       1       0       0  \n69995   27      1      0      0       1       0       0  \n69997   31      0      0      1       1       0       0  \n69998   27      1      0      0       0       1       0  \n69999   25      0      1      0       1       0       0  \n\n[59166 rows x 17 columns]",
      "text/html": "<div>\n<style scoped>\n    .dataframe tbody tr th:only-of-type {\n        vertical-align: middle;\n    }\n\n    .dataframe tbody tr th {\n        vertical-align: top;\n    }\n\n    .dataframe thead th {\n        text-align: right;\n    }\n</style>\n<table border=\"1\" class=\"dataframe\">\n  <thead>\n    <tr style=\"text-align: right;\">\n      <th></th>\n      <th>age</th>\n      <th>gender</th>\n      <th>height</th>\n      <th>weight</th>\n      <th>ap_hi</th>\n      <th>ap_lo</th>\n      <th>smoke</th>\n      <th>alco</th>\n      <th>active</th>\n      <th>cardio</th>\n      <th>BMI</th>\n      <th>chol1</th>\n      <th>chol2</th>\n      <th>chol3</th>\n      <th>gluc_1</th>\n      <th>gluc_2</th>\n      <th>gluc_3</th>\n    </tr>\n  </thead>\n  <tbody>\n    <tr>\n      <th>0</th>\n      <td>50</td>\n      <td>2</td>\n      <td>168</td>\n      <td>62.0</td>\n      <td>110</td>\n      <td>80</td>\n      <td>0</td>\n      <td>0</td>\n      <td>1</td>\n      <td>0</td>\n      <td>22</td>\n      <td>1</td>\n      <td>0</td>\n      <td>0</td>\n      <td>1</td>\n      <td>0</td>\n      <td>0</td>\n    </tr>\n    <tr>\n      <th>1</th>\n      <td>55</td>\n      <td>1</td>\n      <td>156</td>\n      <td>85.0</td>\n      <td>140</td>\n      <td>90</td>\n      <td>0</td>\n      <td>0</td>\n      <td>1</td>\n      <td>1</td>\n      <td>35</td>\n      <td>0</td>\n      <td>0</td>\n      <td>1</td>\n      <td>1</td>\n      <td>0</td>\n      <td>0</td>\n    </tr>\n    <tr>\n      <th>2</th>\n      <td>52</td>\n      <td>1</td>\n      <td>165</td>\n      <td>64.0</td>\n      <td>130</td>\n      <td>70</td>\n      <td>0</td>\n      <td>0</td>\n      <td>0</td>\n      <td>1</td>\n      <td>24</td>\n      <td>0</td>\n      <td>0</td>\n      <td>1</td>\n      <td>1</td>\n      <td>0</td>\n      <td>0</td>\n    </tr>\n    <tr>\n      <th>3</th>\n      <td>48</td>\n      <td>2</td>\n      <td>169</td>\n      <td>82.0</td>\n      <td>150</td>\n      <td>100</td>\n      <td>0</td>\n      <td>0</td>\n      <td>1</td>\n      <td>1</td>\n      <td>29</td>\n      <td>1</td>\n      <td>0</td>\n      <td>0</td>\n      <td>1</td>\n      <td>0</td>\n      <td>0</td>\n    </tr>\n    <tr>\n      <th>4</th>\n      <td>48</td>\n      <td>1</td>\n      <td>156</td>\n      <td>56.0</td>\n      <td>100</td>\n      <td>60</td>\n      <td>0</td>\n      <td>0</td>\n      <td>0</td>\n      <td>0</td>\n      <td>23</td>\n      <td>1</td>\n      <td>0</td>\n      <td>0</td>\n      <td>1</td>\n      <td>0</td>\n      <td>0</td>\n    </tr>\n    <tr>\n      <th>...</th>\n      <td>...</td>\n      <td>...</td>\n      <td>...</td>\n      <td>...</td>\n      <td>...</td>\n      <td>...</td>\n      <td>...</td>\n      <td>...</td>\n      <td>...</td>\n      <td>...</td>\n      <td>...</td>\n      <td>...</td>\n      <td>...</td>\n      <td>...</td>\n      <td>...</td>\n      <td>...</td>\n      <td>...</td>\n    </tr>\n    <tr>\n      <th>69994</th>\n      <td>58</td>\n      <td>1</td>\n      <td>165</td>\n      <td>80.0</td>\n      <td>150</td>\n      <td>80</td>\n      <td>0</td>\n      <td>0</td>\n      <td>1</td>\n      <td>1</td>\n      <td>29</td>\n      <td>1</td>\n      <td>0</td>\n      <td>0</td>\n      <td>1</td>\n      <td>0</td>\n      <td>0</td>\n    </tr>\n    <tr>\n      <th>69995</th>\n      <td>53</td>\n      <td>2</td>\n      <td>168</td>\n      <td>76.0</td>\n      <td>120</td>\n      <td>80</td>\n      <td>1</td>\n      <td>0</td>\n      <td>1</td>\n      <td>0</td>\n      <td>27</td>\n      <td>1</td>\n      <td>0</td>\n      <td>0</td>\n      <td>1</td>\n      <td>0</td>\n      <td>0</td>\n    </tr>\n    <tr>\n      <th>69997</th>\n      <td>52</td>\n      <td>2</td>\n      <td>183</td>\n      <td>105.0</td>\n      <td>180</td>\n      <td>90</td>\n      <td>0</td>\n      <td>1</td>\n      <td>0</td>\n      <td>1</td>\n      <td>31</td>\n      <td>0</td>\n      <td>0</td>\n      <td>1</td>\n      <td>1</td>\n      <td>0</td>\n      <td>0</td>\n    </tr>\n    <tr>\n      <th>69998</th>\n      <td>61</td>\n      <td>1</td>\n      <td>163</td>\n      <td>72.0</td>\n      <td>135</td>\n      <td>80</td>\n      <td>0</td>\n      <td>0</td>\n      <td>0</td>\n      <td>1</td>\n      <td>27</td>\n      <td>1</td>\n      <td>0</td>\n      <td>0</td>\n      <td>0</td>\n      <td>1</td>\n      <td>0</td>\n    </tr>\n    <tr>\n      <th>69999</th>\n      <td>56</td>\n      <td>1</td>\n      <td>170</td>\n      <td>72.0</td>\n      <td>120</td>\n      <td>80</td>\n      <td>0</td>\n      <td>0</td>\n      <td>1</td>\n      <td>0</td>\n      <td>25</td>\n      <td>0</td>\n      <td>1</td>\n      <td>0</td>\n      <td>1</td>\n      <td>0</td>\n      <td>0</td>\n    </tr>\n  </tbody>\n</table>\n<p>59166 rows × 17 columns</p>\n</div>"
     },
     "execution_count": 20,
     "metadata": {},
     "output_type": "execute_result"
    }
   ],
   "source": [
    "df"
   ],
   "metadata": {
    "collapsed": false,
    "pycharm": {
     "name": "#%%\n"
    }
   }
  },
  {
   "cell_type": "code",
   "execution_count": 21,
   "outputs": [],
   "source": [
    "df['gender'].replace(2,0,inplace=True)"
   ],
   "metadata": {
    "collapsed": false,
    "pycharm": {
     "name": "#%%\n"
    }
   }
  },
  {
   "cell_type": "code",
   "execution_count": 22,
   "outputs": [],
   "source": [
    "down=df[(df.cardio==1)&(df.active==1)&(df.smoke==0)&(df.gluc_1==1)&(df.BMI<25)&(80<df.ap_lo)&(df.ap_lo<90)&(120<df.ap_hi)&(df.ap_hi<140)&(df.chol1==1)].index"
   ],
   "metadata": {
    "collapsed": false,
    "pycharm": {
     "name": "#%%\n"
    }
   }
  },
  {
   "cell_type": "code",
   "execution_count": 23,
   "outputs": [],
   "source": [
    "df.drop(down,inplace=True)"
   ],
   "metadata": {
    "collapsed": false,
    "pycharm": {
     "name": "#%%\n"
    }
   }
  },
  {
   "cell_type": "code",
   "execution_count": 24,
   "outputs": [],
   "source": [
    "down2=df[(df.cardio==0)&(df.active==0)&(df.gluc_3==1)&(df.BMI>30)&((90<df.ap_lo)|(df.ap_lo<80))&((140<df.ap_hi)|(df.ap_hi<120))&(df.chol3==1)].index"
   ],
   "metadata": {
    "collapsed": false,
    "pycharm": {
     "name": "#%%\n"
    }
   }
  },
  {
   "cell_type": "code",
   "execution_count": 25,
   "outputs": [],
   "source": [
    "df.drop(down2,inplace=True)"
   ],
   "metadata": {
    "collapsed": false,
    "pycharm": {
     "name": "#%%\n"
    }
   }
  },
  {
   "cell_type": "code",
   "execution_count": 26,
   "outputs": [
    {
     "data": {
      "text/plain": "       age  gender  height  weight  ap_hi  ap_lo  smoke  alco  active  cardio  \\\n1240    60       1     164    96.0     90     60      0     0       0       0   \n9774    50       1     151    81.0     90     70      0     0       0       0   \n10704   60       1     160   104.0    141     70      0     0       0       0   \n12881   62       1     149    90.0    160    110      0     0       0       0   \n54033   42       0     152    92.0    100     70      0     0       0       0   \n\n       BMI  chol1  chol2  chol3  gluc_1  gluc_2  gluc_3  \n1240    36      0      0      1       1       0       0  \n9774    36      1      0      0       0       0       1  \n10704   41      0      1      0       0       0       1  \n12881   41      0      0      1       1       0       0  \n54033   40      1      0      0       0       0       1  ",
      "text/html": "<div>\n<style scoped>\n    .dataframe tbody tr th:only-of-type {\n        vertical-align: middle;\n    }\n\n    .dataframe tbody tr th {\n        vertical-align: top;\n    }\n\n    .dataframe thead th {\n        text-align: right;\n    }\n</style>\n<table border=\"1\" class=\"dataframe\">\n  <thead>\n    <tr style=\"text-align: right;\">\n      <th></th>\n      <th>age</th>\n      <th>gender</th>\n      <th>height</th>\n      <th>weight</th>\n      <th>ap_hi</th>\n      <th>ap_lo</th>\n      <th>smoke</th>\n      <th>alco</th>\n      <th>active</th>\n      <th>cardio</th>\n      <th>BMI</th>\n      <th>chol1</th>\n      <th>chol2</th>\n      <th>chol3</th>\n      <th>gluc_1</th>\n      <th>gluc_2</th>\n      <th>gluc_3</th>\n    </tr>\n  </thead>\n  <tbody>\n    <tr>\n      <th>1240</th>\n      <td>60</td>\n      <td>1</td>\n      <td>164</td>\n      <td>96.0</td>\n      <td>90</td>\n      <td>60</td>\n      <td>0</td>\n      <td>0</td>\n      <td>0</td>\n      <td>0</td>\n      <td>36</td>\n      <td>0</td>\n      <td>0</td>\n      <td>1</td>\n      <td>1</td>\n      <td>0</td>\n      <td>0</td>\n    </tr>\n    <tr>\n      <th>9774</th>\n      <td>50</td>\n      <td>1</td>\n      <td>151</td>\n      <td>81.0</td>\n      <td>90</td>\n      <td>70</td>\n      <td>0</td>\n      <td>0</td>\n      <td>0</td>\n      <td>0</td>\n      <td>36</td>\n      <td>1</td>\n      <td>0</td>\n      <td>0</td>\n      <td>0</td>\n      <td>0</td>\n      <td>1</td>\n    </tr>\n    <tr>\n      <th>10704</th>\n      <td>60</td>\n      <td>1</td>\n      <td>160</td>\n      <td>104.0</td>\n      <td>141</td>\n      <td>70</td>\n      <td>0</td>\n      <td>0</td>\n      <td>0</td>\n      <td>0</td>\n      <td>41</td>\n      <td>0</td>\n      <td>1</td>\n      <td>0</td>\n      <td>0</td>\n      <td>0</td>\n      <td>1</td>\n    </tr>\n    <tr>\n      <th>12881</th>\n      <td>62</td>\n      <td>1</td>\n      <td>149</td>\n      <td>90.0</td>\n      <td>160</td>\n      <td>110</td>\n      <td>0</td>\n      <td>0</td>\n      <td>0</td>\n      <td>0</td>\n      <td>41</td>\n      <td>0</td>\n      <td>0</td>\n      <td>1</td>\n      <td>1</td>\n      <td>0</td>\n      <td>0</td>\n    </tr>\n    <tr>\n      <th>54033</th>\n      <td>42</td>\n      <td>0</td>\n      <td>152</td>\n      <td>92.0</td>\n      <td>100</td>\n      <td>70</td>\n      <td>0</td>\n      <td>0</td>\n      <td>0</td>\n      <td>0</td>\n      <td>40</td>\n      <td>1</td>\n      <td>0</td>\n      <td>0</td>\n      <td>0</td>\n      <td>0</td>\n      <td>1</td>\n    </tr>\n  </tbody>\n</table>\n</div>"
     },
     "execution_count": 26,
     "metadata": {},
     "output_type": "execute_result"
    }
   ],
   "source": [
    "df[(df.cardio==0)&(df.active==0)&(df.BMI>35)&((90<df.ap_lo)|(df.ap_lo<80))&((140<df.ap_hi)|(df.ap_hi<120))&((df.chol3==1)|(df.gluc_3==1))]"
   ],
   "metadata": {
    "collapsed": false,
    "pycharm": {
     "name": "#%%\n"
    }
   }
  },
  {
   "cell_type": "code",
   "execution_count": 27,
   "outputs": [],
   "source": [
    "df.drop(df[(df.BMI>40)&(df.cardio==0)].index,inplace=True)"
   ],
   "metadata": {
    "collapsed": false,
    "pycharm": {
     "name": "#%%\n"
    }
   }
  },
  {
   "cell_type": "code",
   "execution_count": 28,
   "outputs": [
    {
     "data": {
      "text/plain": "          age  height  weight  ap_hi  ap_lo  smoke   alco  active  cardio  \\\ngender                                                                      \n0       21379   21379   21379  21379  21379  21379  21379   21379   21379   \n1       37683   37683   37683  37683  37683  37683  37683   37683   37683   \n\n          BMI  chol1  chol2  chol3  gluc_1  gluc_2  gluc_3  \ngender                                                      \n0       21379  21379  21379  21379   21379   21379   21379  \n1       37683  37683  37683  37683   37683   37683   37683  ",
      "text/html": "<div>\n<style scoped>\n    .dataframe tbody tr th:only-of-type {\n        vertical-align: middle;\n    }\n\n    .dataframe tbody tr th {\n        vertical-align: top;\n    }\n\n    .dataframe thead th {\n        text-align: right;\n    }\n</style>\n<table border=\"1\" class=\"dataframe\">\n  <thead>\n    <tr style=\"text-align: right;\">\n      <th></th>\n      <th>age</th>\n      <th>height</th>\n      <th>weight</th>\n      <th>ap_hi</th>\n      <th>ap_lo</th>\n      <th>smoke</th>\n      <th>alco</th>\n      <th>active</th>\n      <th>cardio</th>\n      <th>BMI</th>\n      <th>chol1</th>\n      <th>chol2</th>\n      <th>chol3</th>\n      <th>gluc_1</th>\n      <th>gluc_2</th>\n      <th>gluc_3</th>\n    </tr>\n    <tr>\n      <th>gender</th>\n      <th></th>\n      <th></th>\n      <th></th>\n      <th></th>\n      <th></th>\n      <th></th>\n      <th></th>\n      <th></th>\n      <th></th>\n      <th></th>\n      <th></th>\n      <th></th>\n      <th></th>\n      <th></th>\n      <th></th>\n      <th></th>\n    </tr>\n  </thead>\n  <tbody>\n    <tr>\n      <th>0</th>\n      <td>21379</td>\n      <td>21379</td>\n      <td>21379</td>\n      <td>21379</td>\n      <td>21379</td>\n      <td>21379</td>\n      <td>21379</td>\n      <td>21379</td>\n      <td>21379</td>\n      <td>21379</td>\n      <td>21379</td>\n      <td>21379</td>\n      <td>21379</td>\n      <td>21379</td>\n      <td>21379</td>\n      <td>21379</td>\n    </tr>\n    <tr>\n      <th>1</th>\n      <td>37683</td>\n      <td>37683</td>\n      <td>37683</td>\n      <td>37683</td>\n      <td>37683</td>\n      <td>37683</td>\n      <td>37683</td>\n      <td>37683</td>\n      <td>37683</td>\n      <td>37683</td>\n      <td>37683</td>\n      <td>37683</td>\n      <td>37683</td>\n      <td>37683</td>\n      <td>37683</td>\n      <td>37683</td>\n    </tr>\n  </tbody>\n</table>\n</div>"
     },
     "execution_count": 28,
     "metadata": {},
     "output_type": "execute_result"
    }
   ],
   "source": [
    "df.groupby('gender').count()"
   ],
   "metadata": {
    "collapsed": false,
    "pycharm": {
     "name": "#%%\n"
    }
   }
  },
  {
   "cell_type": "code",
   "execution_count": 29,
   "outputs": [],
   "source": [
    "down3=df[(df.gluc_3==1)&(df.chol3==1)&(df.cardio==0)&((df.ap_hi>140)|(df.ap_hi<120))].index"
   ],
   "metadata": {
    "collapsed": false,
    "pycharm": {
     "name": "#%%\n"
    }
   }
  },
  {
   "cell_type": "code",
   "execution_count": 30,
   "outputs": [],
   "source": [
    "df.drop(down3,inplace=True)"
   ],
   "metadata": {
    "collapsed": false,
    "pycharm": {
     "name": "#%%\n"
    }
   }
  },
  {
   "cell_type": "code",
   "execution_count": 31,
   "outputs": [],
   "source": [
    "#df.drop(df[(df.BMI>30)&(df.cardio==0)&(df.chol3==1)&(df.age>60)&(df.active==0)].index,inplace=True)"
   ],
   "metadata": {
    "collapsed": false,
    "pycharm": {
     "name": "#%%\n"
    }
   }
  },
  {
   "cell_type": "code",
   "execution_count": 32,
   "outputs": [],
   "source": [
    "#df.drop(df[(df.BMI<25)&(df.cardio==1)&(df.chol1==1)&(df.age<45)&(df.active==1)&(df.ap_lo>80)].index,inplace=True)"
   ],
   "metadata": {
    "collapsed": false,
    "pycharm": {
     "name": "#%%\n"
    }
   }
  },
  {
   "cell_type": "code",
   "execution_count": 33,
   "outputs": [],
   "source": [
    "dflow0=df[(df.age<45)&(df.active==1)&(df.chol1==1)&(df.cardio==0)&(df.smoke==0)&(df.alco==0)&(df.gluc_1==1)&(df.BMI<=35)]\n",
    "dflow1=df[(df.age<45)&(df.active==0)&(df.chol1==0)&(df.gluc_1==0)]\n",
    "dfmid0=df[(df.cardio==0)&(df.age>=45)&(df.age<=58)&((df.chol1==1)&(df.active==1))&(df.gluc_1==1)&(df.smoke==0)&(df.alco==0)&(df.BMI<=30)]\n",
    "dfmid1=df[(df.cardio==1)&(df.age>=45)&(df.age<=58)&((df.chol1==0)|(df.active==0))]\n",
    "dfhi1=df[(df.age>60)&(df.cardio==1)&(df.chol1==0)]\n",
    "dfhi0=df[(df.age>60)&(df.cardio==0)&(df.chol1==1)&(df.smoke==0)&(df.alco==0)&(df.gluc_1==1)&(df.BMI<=30)]\n",
    "final=dflow0.append([dflow1,dfmid0,dfmid1,dfhi0,dfhi1])\n",
    "bad=df[(df.cardio==0)&(df.active==0)&(df.chol1==0)]\n",
    "bad1=df[(df.cardio==1)&(df.active==1)&(df.chol1==1)]\n",
    "newfinal=final.append(bad)\n",
    "newfinal1=newfinal.append(bad1)\n",
    "final=newfinal1"
   ],
   "metadata": {
    "collapsed": false,
    "pycharm": {
     "name": "#%%\n"
    }
   }
  },
  {
   "cell_type": "markdown",
   "source": [
    "## TEST TRAIN SPLIT"
   ],
   "metadata": {
    "collapsed": false
   }
  },
  {
   "cell_type": "code",
   "execution_count": 34,
   "outputs": [],
   "source": [
    "predictors = final.drop([\"cardio\",'BMI'],axis=1)\n",
    "target = final['cardio']\n",
    "\n",
    "X_train,X_test,Y_train,Y_test = train_test_split(predictors,target,test_size=0.2,random_state=1,stratify=target)\n",
    "\n",
    "X_train, X_val, Y_train, Y_val = train_test_split(X_train, Y_train, test_size=0.2, random_state=1,stratify=Y_train)"
   ],
   "metadata": {
    "collapsed": false,
    "pycharm": {
     "name": "#%%\n"
    }
   }
  },
  {
   "cell_type": "code",
   "execution_count": 35,
   "outputs": [
    {
     "name": "stdout",
     "output_type": "stream",
     "text": [
      "0.6568423531258585 0.6569132236594248\n"
     ]
    }
   ],
   "source": [
    "print(Y_train.mean(),Y_test.mean())"
   ],
   "metadata": {
    "collapsed": false,
    "pycharm": {
     "name": "#%%\n"
    }
   }
  },
  {
   "cell_type": "code",
   "execution_count": 36,
   "outputs": [],
   "source": [
    "from sklearn.preprocessing import StandardScaler\n",
    "sc_X=StandardScaler()\n",
    "X_train=sc_X.fit_transform(X_train)\n",
    "X_val=sc_X.fit_transform(X_val)\n",
    "X_test=sc_X.fit_transform(X_test)"
   ],
   "metadata": {
    "collapsed": false,
    "pycharm": {
     "name": "#%%\n"
    }
   }
  },
  {
   "cell_type": "markdown",
   "source": [
    "### BOOSTING"
   ],
   "metadata": {
    "collapsed": false
   }
  },
  {
   "cell_type": "markdown",
   "source": [
    "#### GRADIENT BOOSTING"
   ],
   "metadata": {
    "collapsed": false
   }
  },
  {
   "cell_type": "code",
   "execution_count": 38,
   "outputs": [
    {
     "name": "stdout",
     "output_type": "stream",
     "text": [
      "Accuracy on training set: 0.861\n",
      "Accuracy on val set: 0.853\n"
     ]
    }
   ],
   "source": [
    "from sklearn.ensemble import GradientBoostingClassifier\n",
    "depth = 5  #@param {type: \"slider\", min: 0, max: 100}\n",
    "gb = GradientBoostingClassifier(random_state=42,max_depth=depth)\n",
    "gb.fit(X_train, Y_train)\n",
    "print(\"Accuracy on training set: {:.3f}\".format(gb.score(X_train, Y_train)))\n",
    "print(\"Accuracy on val set: {:.3f}\".format(gb.score(X_val, Y_val)))"
   ],
   "metadata": {
    "collapsed": false,
    "pycharm": {
     "name": "#%%\n"
    }
   }
  },
  {
   "cell_type": "code",
   "execution_count": 39,
   "outputs": [
    {
     "name": "stdout",
     "output_type": "stream",
     "text": [
      "Accuracy on test set: 0.851\n"
     ]
    }
   ],
   "source": [
    "print(\"Accuracy on test set: {:.3f}\".format(gb.score(X_test, Y_test)))\n"
   ],
   "metadata": {
    "collapsed": false,
    "pycharm": {
     "name": "#%%\n"
    }
   }
  },
  {
   "cell_type": "markdown",
   "source": [
    "Done\n",
    "### AUC score and precision recall graph"
   ],
   "metadata": {
    "collapsed": false
   }
  },
  {
   "cell_type": "code",
   "execution_count": 40,
   "outputs": [],
   "source": [
    "def plotting(true,pred):\n",
    "    fig,ax=plt.subplots(1,2,figsize=(10,5))\n",
    "    precision,recall,threshold = precision_recall_curve(true,pred[:,1])\n",
    "    ax[0].plot(recall,precision,'g--')\n",
    "    ax[0].set_xlabel('Recall')\n",
    "    ax[0].set_ylabel('Precision')\n",
    "    ax[0].set_title(\"Average Precision Score : {}\".format(average_precision_score(true,pred[:,1])))\n",
    "    fpr,tpr,threshold = roc_curve(true,pred[:,1])\n",
    "    ax[1].plot(fpr,tpr)\n",
    "    ax[1].set_title(\"AUC Score is: {}\".format(auc(fpr,tpr)))\n",
    "    ax[1].plot([0,1],[0,1],'k--')\n",
    "    ax[1].set_xlabel('False Positive Rate')\n",
    "    ax[1].set_ylabel('True Positive Rate')\n",
    "\n"
   ],
   "metadata": {
    "collapsed": false,
    "pycharm": {
     "name": "#%%\n"
    }
   }
  },
  {
   "cell_type": "code",
   "execution_count": 41,
   "outputs": [
    {
     "data": {
      "text/plain": "<Figure size 432x288 with 0 Axes>"
     },
     "metadata": {},
     "output_type": "display_data"
    },
    {
     "data": {
      "text/plain": "<Figure size 720x360 with 2 Axes>",
      "image/png": "[encoded data removed]"
     },
     "metadata": {
      "needs_background": "light"
     },
     "output_type": "display_data"
    }
   ],
   "source": [
    "plt.figure()\n",
    "plotting(Y_test,gb.predict_proba(X_test))"
   ],
   "metadata": {
    "collapsed": false,
    "pycharm": {
     "name": "#%%\n"
    }
   }
  },
  {
   "cell_type": "code",
   "execution_count": 44,
   "outputs": [
    {
     "name": "stdout",
     "output_type": "stream",
     "text": [
      "Saving model\n",
      "Accuracy on training set: 0.861\n",
      "Accuracy on val set: 0.853\n",
      "Accuracy on test set: 0.851\n"
     ]
    }
   ],
   "source": [
    "print(\"Saving model\")\n",
    "filename = 'Models/CVD.pickle'\n",
    "pickle.dump(gb, open(filename, 'wb'))\n",
    "\n",
    "new_gb = pickle.load(open(filename, 'rb'))\n",
    "print(\"Accuracy on training set: {:.3f}\".format(new_gb.score(X_train, Y_train)))\n",
    "print(\"Accuracy on val set: {:.3f}\".format(new_gb.score(X_val, Y_val)))\n",
    "print(\"Accuracy on test set: {:.3f}\".format(new_gb.score(X_test, Y_test)))\n"
   ],
   "metadata": {
    "collapsed": false,
    "pycharm": {
     "name": "#%%\n"
    }
   }
  }
 ],
 "metadata": {
  "colab": {
   "collapsed_sections": [],
   "name": "ensemble.ipynb",
   "provenance": [],
   "version": "0.3.2"
  },
  "kernelspec": {
   "name": "python3",
   "language": "python",
   "display_name": "Python 3"
  },
  "language_info": {
   "codemirror_mode": {
    "name": "ipython",
    "version": 3
   },
   "file_extension": ".py",
   "mimetype": "text/x-python",
   "name": "python",
   "nbconvert_exporter": "python",
   "pygments_lexer": "ipython3",
   "version": "3.7.0"
  }
 },
 "nbformat": 4,
 "nbformat_minor": 1
}