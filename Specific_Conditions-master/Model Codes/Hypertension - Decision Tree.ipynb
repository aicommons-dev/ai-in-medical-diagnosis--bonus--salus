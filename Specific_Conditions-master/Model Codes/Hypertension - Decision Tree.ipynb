{
 "cells": [
  {
   "cell_type": "markdown",
   "metadata": {},
   "source": [
    "#  Decision Tree Model for Hypertension Prediction\n"
   ]
  },
  {
   "cell_type": "code",
   "execution_count": 63,
   "metadata": {},
   "outputs": [],
   "source": [
    "# Necessary Libraries\n",
    "from __future__ import division\n",
    "import numpy as np\n",
    "import pandas as pd\n",
    "\n",
    "import matplotlib.pyplot as plt\n",
    "import seaborn as sns\n",
    "%matplotlib inline\n",
    "\n",
    "import random \n",
    "from pprint import pprint\n",
    "\n",
    "%config IPCompleter.greedy=True"
   ]
  },
  {
   "cell_type": "code",
   "execution_count": 64,
   "metadata": {},
   "outputs": [
    {
     "name": "stdout",
     "output_type": "stream",
     "text": [
      "1.19.1\n",
      "1.1.0\n",
      "0.10.1\n"
     ]
    }
   ],
   "source": [
    "print(np.__version__)\n",
    "print(pd.__version__)\n",
    "print(sns.__version__)"
   ]
  },
  {
   "cell_type": "markdown",
   "metadata": {},
   "source": [
    "## Data Preprocessing"
   ]
  },
  {
   "cell_type": "code",
   "execution_count": 65,
   "metadata": {
    "scrolled": false
   },
   "outputs": [
    {
     "data": {
      "text/plain": "   Sex  Agecat  Marrital  Edu4  Occupation4  Poor  Smoking  DoseSmoking  \\\n0    2       4         1     1            2     0        2            0   \n1    2       4         3     1            3     0        2            0   \n2    2       4         1     1            2     1        3            0   \n3    2       4         3     1            4     0        3            0   \n4    2       4         2     1            2     0        3            0   \n\n   Tobacco  DoseTobacco  ...  FamilyHxHT        BMI  BMIcat    WC  WClevel  \\\n0        2            0  ...           2  18.261505       1  90.0        1   \n1        2            0  ...           2  18.999417       2  86.0        0   \n2        2            0  ...           2  22.232140       2  98.0        1   \n3        2            0  ...           2  24.238227       2  99.0        1   \n4        2            0  ...           2  19.977775       2  74.0        0   \n\n     SBP    DBP  HTN  ControledBP  WeightageAsianAG  \n0  120.0   80.0    1            1              4.70  \n1  110.0   62.0    0            1              4.70  \n2  160.0  100.0    1            0              4.70  \n3  128.0   65.0    0            1              4.70  \n4  100.0   60.0    0            1              4.01  \n\n[5 rows x 32 columns]",
      "text/html": "<div>\n<style scoped>\n    .dataframe tbody tr th:only-of-type {\n        vertical-align: middle;\n    }\n\n    .dataframe tbody tr th {\n        vertical-align: top;\n    }\n\n    .dataframe thead th {\n        text-align: right;\n    }\n</style>\n<table border=\"1\" class=\"dataframe\">\n  <thead>\n    <tr style=\"text-align: right;\">\n      <th></th>\n      <th>Sex</th>\n      <th>Agecat</th>\n      <th>Marrital</th>\n      <th>Edu4</th>\n      <th>Occupation4</th>\n      <th>Poor</th>\n      <th>Smoking</th>\n      <th>DoseSmoking</th>\n      <th>Tobacco</th>\n      <th>DoseTobacco</th>\n      <th>...</th>\n      <th>FamilyHxHT</th>\n      <th>BMI</th>\n      <th>BMIcat</th>\n      <th>WC</th>\n      <th>WClevel</th>\n      <th>SBP</th>\n      <th>DBP</th>\n      <th>HTN</th>\n      <th>ControledBP</th>\n      <th>WeightageAsianAG</th>\n    </tr>\n  </thead>\n  <tbody>\n    <tr>\n      <th>0</th>\n      <td>2</td>\n      <td>4</td>\n      <td>1</td>\n      <td>1</td>\n      <td>2</td>\n      <td>0</td>\n      <td>2</td>\n      <td>0</td>\n      <td>2</td>\n      <td>0</td>\n      <td>...</td>\n      <td>2</td>\n      <td>18.261505</td>\n      <td>1</td>\n      <td>90.0</td>\n      <td>1</td>\n      <td>120.0</td>\n      <td>80.0</td>\n      <td>1</td>\n      <td>1</td>\n      <td>4.70</td>\n    </tr>\n    <tr>\n      <th>1</th>\n      <td>2</td>\n      <td>4</td>\n      <td>3</td>\n      <td>1</td>\n      <td>3</td>\n      <td>0</td>\n      <td>2</td>\n      <td>0</td>\n      <td>2</td>\n      <td>0</td>\n      <td>...</td>\n      <td>2</td>\n      <td>18.999417</td>\n      <td>2</td>\n      <td>86.0</td>\n      <td>0</td>\n      <td>110.0</td>\n      <td>62.0</td>\n      <td>0</td>\n      <td>1</td>\n      <td>4.70</td>\n    </tr>\n    <tr>\n      <th>2</th>\n      <td>2</td>\n      <td>4</td>\n      <td>1</td>\n      <td>1</td>\n      <td>2</td>\n      <td>1</td>\n      <td>3</td>\n      <td>0</td>\n      <td>2</td>\n      <td>0</td>\n      <td>...</td>\n      <td>2</td>\n      <td>22.232140</td>\n      <td>2</td>\n      <td>98.0</td>\n      <td>1</td>\n      <td>160.0</td>\n      <td>100.0</td>\n      <td>1</td>\n      <td>0</td>\n      <td>4.70</td>\n    </tr>\n    <tr>\n      <th>3</th>\n      <td>2</td>\n      <td>4</td>\n      <td>3</td>\n      <td>1</td>\n      <td>4</td>\n      <td>0</td>\n      <td>3</td>\n      <td>0</td>\n      <td>2</td>\n      <td>0</td>\n      <td>...</td>\n      <td>2</td>\n      <td>24.238227</td>\n      <td>2</td>\n      <td>99.0</td>\n      <td>1</td>\n      <td>128.0</td>\n      <td>65.0</td>\n      <td>0</td>\n      <td>1</td>\n      <td>4.70</td>\n    </tr>\n    <tr>\n      <th>4</th>\n      <td>2</td>\n      <td>4</td>\n      <td>2</td>\n      <td>1</td>\n      <td>2</td>\n      <td>0</td>\n      <td>3</td>\n      <td>0</td>\n      <td>2</td>\n      <td>0</td>\n      <td>...</td>\n      <td>2</td>\n      <td>19.977775</td>\n      <td>2</td>\n      <td>74.0</td>\n      <td>0</td>\n      <td>100.0</td>\n      <td>60.0</td>\n      <td>0</td>\n      <td>1</td>\n      <td>4.01</td>\n    </tr>\n  </tbody>\n</table>\n<p>5 rows × 32 columns</p>\n</div>"
     },
     "execution_count": 65,
     "metadata": {},
     "output_type": "execute_result"
    }
   ],
   "source": [
    "# loading and viewing our dataset \n",
    "df = pd.read_csv(\"Data/Hypertension.csv\")\n",
    "df.head()"
   ]
  },
  {
   "cell_type": "code",
   "execution_count": 66,
   "metadata": {},
   "outputs": [
    {
     "name": "stdout",
     "output_type": "stream",
     "text": [
      "<class 'pandas.core.frame.DataFrame'>\n",
      "Int64Index: 1159 entries, 0 to 1158\n",
      "Data columns (total 8 columns):\n",
      " #   Column      Non-Null Count  Dtype  \n",
      "---  ------      --------------  -----  \n",
      " 0   Sex         1159 non-null   int64  \n",
      " 1   FamilyHxHT  1159 non-null   int64  \n",
      " 2   Poor        1159 non-null   int64  \n",
      " 3   BMI         1159 non-null   float64\n",
      " 4   WC          1159 non-null   float64\n",
      " 5   SBP         1159 non-null   float64\n",
      " 6   DBP         1159 non-null   float64\n",
      " 7   HTN         1159 non-null   int64  \n",
      "dtypes: float64(4), int64(4)\n",
      "memory usage: 81.5 KB\n"
     ]
    }
   ],
   "source": [
    "indexedData = df[['Sex','FamilyHxHT','Poor','BMI', 'WC', 'SBP', 'DBP', 'HTN']]\n",
    "modifiedData = indexedData.dropna()\n",
    "modifiedData.info()"
   ]
  },
  {
   "cell_type": "markdown",
   "metadata": {},
   "source": [
    "### Formating and Visualization"
   ]
  },
  {
   "cell_type": "code",
   "execution_count": 67,
   "metadata": {
    "scrolled": true
   },
   "outputs": [
    {
     "data": {
      "text/plain": "<seaborn.axisgrid.FacetGrid at 0x230cfef6b08>"
     },
     "execution_count": 67,
     "metadata": {},
     "output_type": "execute_result"
    },
    {
     "data": {
      "text/plain": "<Figure size 528.375x324 with 1 Axes>",
      "image/png": "[encoded data removed]"
     },
     "metadata": {
      "needs_background": "light"
     },
     "output_type": "display_data"
    }
   ],
   "source": [
    "sns.lmplot(data = modifiedData, x = \"BMI\", y = \"SBP\", hue ='HTN',\n",
    "            fit_reg = False, height = 4.5, aspect = 1.5)"
   ]
  },
  {
   "cell_type": "markdown",
   "metadata": {},
   "source": [
    "### Train-Test-Split\n"
   ]
  },
  {
   "cell_type": "code",
   "execution_count": 68,
   "metadata": {},
   "outputs": [],
   "source": [
    "# Function designed to split our data into testing and training sets \n",
    "def train_test_split(modifiedData, test_size): \n",
    "    \n",
    "    indices = modifiedData.index.tolist()\n",
    "    test_indices = random.sample(population = indices, k=test_size)\n",
    "\n",
    "    test_df = modifiedData.loc[test_indices]\n",
    "    train_df = modifiedData.drop(test_indices)\n",
    "     \n",
    "    return train_df, test_df\n"
   ]
  },
  {
   "cell_type": "code",
   "execution_count": 69,
   "metadata": {},
   "outputs": [
    {
     "data": {
      "text/plain": "      Sex  FamilyHxHT  Poor        BMI     WC    SBP   DBP  HTN\n1151    2           2     0  24.143655   92.0  110.0  80.0    0\n160     1           2     1  23.938990   95.0  115.0  72.5    0\n662     1           2     0  28.961842  119.0  135.0  85.0    0\n703     2           2     0  32.893294  104.0  150.0  90.0    1\n896     2           2     0  26.153598  105.0  120.0  80.0    0",
      "text/html": "<div>\n<style scoped>\n    .dataframe tbody tr th:only-of-type {\n        vertical-align: middle;\n    }\n\n    .dataframe tbody tr th {\n        vertical-align: top;\n    }\n\n    .dataframe thead th {\n        text-align: right;\n    }\n</style>\n<table border=\"1\" class=\"dataframe\">\n  <thead>\n    <tr style=\"text-align: right;\">\n      <th></th>\n      <th>Sex</th>\n      <th>FamilyHxHT</th>\n      <th>Poor</th>\n      <th>BMI</th>\n      <th>WC</th>\n      <th>SBP</th>\n      <th>DBP</th>\n      <th>HTN</th>\n    </tr>\n  </thead>\n  <tbody>\n    <tr>\n      <th>1151</th>\n      <td>2</td>\n      <td>2</td>\n      <td>0</td>\n      <td>24.143655</td>\n      <td>92.0</td>\n      <td>110.0</td>\n      <td>80.0</td>\n      <td>0</td>\n    </tr>\n    <tr>\n      <th>160</th>\n      <td>1</td>\n      <td>2</td>\n      <td>1</td>\n      <td>23.938990</td>\n      <td>95.0</td>\n      <td>115.0</td>\n      <td>72.5</td>\n      <td>0</td>\n    </tr>\n    <tr>\n      <th>662</th>\n      <td>1</td>\n      <td>2</td>\n      <td>0</td>\n      <td>28.961842</td>\n      <td>119.0</td>\n      <td>135.0</td>\n      <td>85.0</td>\n      <td>0</td>\n    </tr>\n    <tr>\n      <th>703</th>\n      <td>2</td>\n      <td>2</td>\n      <td>0</td>\n      <td>32.893294</td>\n      <td>104.0</td>\n      <td>150.0</td>\n      <td>90.0</td>\n      <td>1</td>\n    </tr>\n    <tr>\n      <th>896</th>\n      <td>2</td>\n      <td>2</td>\n      <td>0</td>\n      <td>26.153598</td>\n      <td>105.0</td>\n      <td>120.0</td>\n      <td>80.0</td>\n      <td>0</td>\n    </tr>\n  </tbody>\n</table>\n</div>"
     },
     "execution_count": 69,
     "metadata": {},
     "output_type": "execute_result"
    }
   ],
   "source": [
    "# create values for our testing and training sets with an 80-20 split \n",
    "train_df, test_df = train_test_split(modifiedData, test_size =232)\n",
    "test_df.head()"
   ]
  },
  {
   "cell_type": "markdown",
   "metadata": {},
   "source": [
    "# Helper Functions\n"
   ]
  },
  {
   "cell_type": "code",
   "execution_count": 70,
   "metadata": {},
   "outputs": [],
   "source": [
    "# we only want the labels from our training data \n",
    "data = train_df.values"
   ]
  },
  {
   "cell_type": "markdown",
   "metadata": {},
   "source": [
    "### Data Purity"
   ]
  },
  {
   "cell_type": "code",
   "execution_count": 71,
   "metadata": {},
   "outputs": [],
   "source": [
    "# Function to make sure data is \"pure\", meaning it only has 1 label\n",
    "# When creating our tree algorithms, if subgroup of the data is pure, we can proceed with classification since only 1 value\n",
    "# If data subgroup is not pure, we must contrinue classifying and spliting \n",
    "def check_purity(data):\n",
    "    \n",
    "    label_column = data[:,-1]\n",
    "    unique_classes = np.unique(label_column)\n",
    "\n",
    "    if len(unique_classes) == 1:\n",
    "        return True\n",
    "    else:\n",
    "        return False\n",
    "    "
   ]
  },
  {
   "cell_type": "code",
   "execution_count": 72,
   "metadata": {},
   "outputs": [
    {
     "data": {
      "text/plain": "True"
     },
     "execution_count": 72,
     "metadata": {},
     "output_type": "execute_result"
    }
   ],
   "source": [
    "# true if 1 label, false if >1 \n",
    "check_purity(train_df[train_df.SBP > 140].values)"
   ]
  },
  {
   "cell_type": "markdown",
   "metadata": {},
   "source": [
    "### Classify"
   ]
  },
  {
   "cell_type": "code",
   "execution_count": 73,
   "metadata": {},
   "outputs": [],
   "source": [
    "# Classification function to classify each data groups based on parameters\n",
    "\n",
    "def classify_data(data):\n",
    "    # create 2 arrays, the unique label columns and a count of each label\n",
    "    label_column = data[:, -1]\n",
    "    unique_classes, counts_unique_classes = np.unique(label_column, return_counts = True)\n",
    "    \n",
    "    # gets the most occuring label from unique label\n",
    "    index = counts_unique_classes.argmax()\n",
    "    classification = unique_classes[index]\n",
    "    \n",
    "    return classification"
   ]
  },
  {
   "cell_type": "code",
   "execution_count": 74,
   "metadata": {},
   "outputs": [
    {
     "data": {
      "text/plain": "1.0"
     },
     "execution_count": 74,
     "metadata": {},
     "output_type": "execute_result"
    }
   ],
   "source": [
    "# testing the fn, should return the label depending on parameters\n",
    "classify_data(train_df[(train_df.SBP > 120) & (train_df.DBP < 140)].values)"
   ]
  },
  {
   "cell_type": "markdown",
   "metadata": {},
   "source": [
    "### Potential Splits "
   ]
  },
  {
   "cell_type": "code",
   "execution_count": 75,
   "metadata": {},
   "outputs": [],
   "source": [
    "\"\"\"\n",
    "Function to get the values between two data point to better split the data \n",
    "\"\"\"\n",
    "def get_potential_splits(data): \n",
    "    \n",
    "    potential_splits = {}\n",
    "    _, n_columns = data.shape\n",
    "    for column_index in range(n_columns -1):\n",
    "        potential_splits[column_index] = []\n",
    "        values = data[:, column_index]\n",
    "        unique_values = np.unique(values)\n",
    "    \n",
    "        for index in range(len(unique_values)):\n",
    "            if index != 0:\n",
    "                current_value = unique_values[index]\n",
    "                prev_value = unique_values[index -1]\n",
    "                potential_split = (current_value + prev_value) / 2\n",
    "            \n",
    "                potential_splits[column_index].append(potential_split)\n",
    "        \n",
    "    \n",
    "    return potential_splits"
   ]
  },
  {
   "cell_type": "code",
   "execution_count": 76,
   "metadata": {},
   "outputs": [],
   "source": [
    "potential_splits = get_potential_splits(train_df.values)"
   ]
  },
  {
   "cell_type": "markdown",
   "metadata": {},
   "source": [
    "### Split Data "
   ]
  },
  {
   "cell_type": "code",
   "execution_count": 77,
   "metadata": {},
   "outputs": [],
   "source": [
    "\"\"\"\n",
    "Function to split data columns into sub-groups, where the values are above or below the split value\n",
    "\"\"\"\n",
    "def split_data(data, split_column, split_value):\n",
    "    \n",
    "    split_column_values = data[:, split_column]\n",
    "    data_below = data[split_column_values < split_value]\n",
    "    data_above = data[split_column_values >= split_value]\n",
    "    \n",
    "    \n",
    "    return data_below, data_above"
   ]
  },
  {
   "cell_type": "code",
   "execution_count": 78,
   "metadata": {},
   "outputs": [],
   "source": [
    "split_column = 3 \n",
    "split_value = 140\n"
   ]
  },
  {
   "cell_type": "code",
   "execution_count": 79,
   "metadata": {},
   "outputs": [],
   "source": [
    "data_below, data_above = split_data(data, split_column, split_value)\n"
   ]
  },
  {
   "cell_type": "code",
   "execution_count": 80,
   "metadata": {},
   "outputs": [
    {
     "data": {
      "text/plain": "<matplotlib.collections.LineCollection at 0x230cfc8cf48>"
     },
     "execution_count": 80,
     "metadata": {},
     "output_type": "execute_result"
    },
    {
     "data": {
      "text/plain": "<Figure size 700x360 with 1 Axes>",
      "image/png": "[encoded data removed]"
     },
     "metadata": {
      "needs_background": "light"
     },
     "output_type": "display_data"
    }
   ],
   "source": [
    "\"\"\"\n",
    "Testing our functions with an example splitting our SBP values at 140\n",
    "\"\"\"\n",
    "plotting_df = pd.DataFrame(data, columns= modifiedData.columns)\n",
    "sns.lmplot(data= plotting_df, x='SBP', y='BMI', hue = 'HTN', fit_reg = False,\n",
    "          height = 5, aspect = 1.8,)\n",
    "\n",
    "plt.vlines(x=split_value, ymin= 0, ymax = 240)\n",
    "           "
   ]
  },
  {
   "cell_type": "markdown",
   "metadata": {},
   "source": [
    "### Entropy"
   ]
  },
  {
   "cell_type": "markdown",
   "metadata": {},
   "source": [
    "##### Decision trees involes parititioning data into subsets that contain similar values (homogenous)\n",
    "#### -If sample is completely homogenous, the entropy is 0 \n",
    "#### -If sample is equally divided, the entropy is 1 \n",
    "\n",
    "#### Entropy in DT are used to draw boundaries in the data\n",
    "#### -If a branch has entropy of 0, it is a leaf node(we can classify, no need to split)\n",
    "\n",
    "\n"
   ]
  },
  {
   "cell_type": "code",
   "execution_count": 81,
   "metadata": {},
   "outputs": [],
   "source": [
    "\n",
    "def calculate_entropy(data):\n",
    "    \n",
    "    label_column = data[:, -1]\n",
    "    _, counts = np.unique(label_column, return_counts=True)\n",
    "\n",
    "    probabilities = counts / counts.sum()\n",
    "    entropy = sum(probabilities * -np.log2(probabilities))\n",
    "     \n",
    "    return entropy"
   ]
  },
  {
   "cell_type": "code",
   "execution_count": 82,
   "metadata": {},
   "outputs": [
    {
     "name": "stdout",
     "output_type": "stream",
     "text": [
      "[559 368]\n",
      "927\n",
      "[0.6030205 0.3969795]\n"
     ]
    },
    {
     "data": {
      "text/plain": "0.9691562728020962"
     },
     "execution_count": 82,
     "metadata": {},
     "output_type": "execute_result"
    }
   ],
   "source": [
    "label_column = data[:, -1]\n",
    "_, counts = np.unique(label_column, return_counts = True)\n",
    "\n",
    "# We are evaluating our data and the counts of each label \n",
    "print(counts)\n",
    "total_count = counts.sum()\n",
    "print(total_count)\n",
    "probability = counts / total_count\n",
    "print(probability)\n",
    "calculate_entropy(data_below)"
   ]
  },
  {
   "cell_type": "code",
   "execution_count": 83,
   "metadata": {},
   "outputs": [],
   "source": [
    "\"\"\"\n",
    "Calculating the overall entropy in our data\n",
    "This should give us an indication of how well our data's values\n",
    "\"\"\"\n",
    "def calculate_overall_entropy(data_below, data_above):\n",
    "    \n",
    "    n = len(data_below) + len(data_above)\n",
    "    p_data_below = len(data_below) / n\n",
    "    p_data_above = len(data_above) / n\n",
    "\n",
    "    overall_entropy =  (p_data_below * calculate_entropy(data_below) \n",
    "                      + p_data_above * calculate_entropy(data_above))\n",
    "    \n",
    "    return overall_entropy"
   ]
  },
  {
   "cell_type": "code",
   "execution_count": 84,
   "metadata": {},
   "outputs": [
    {
     "data": {
      "text/plain": "0.9691562728020962"
     },
     "execution_count": 84,
     "metadata": {},
     "output_type": "execute_result"
    }
   ],
   "source": [
    "calculate_overall_entropy(data_below, data_above)"
   ]
  },
  {
   "cell_type": "code",
   "execution_count": 85,
   "metadata": {},
   "outputs": [],
   "source": [
    "def determine_best_split(data, potential_splits):\n",
    "    \n",
    "    overall_entropy = 9999\n",
    "    for column_index in potential_splits:\n",
    "        for value in potential_splits[column_index]:\n",
    "            data_below, data_above = split_data(data, split_column=column_index, split_value=value)\n",
    "            current_overall_entropy = calculate_overall_entropy(data_below, data_above)\n",
    "\n",
    "            if current_overall_entropy <= overall_entropy:\n",
    "                overall_entropy = current_overall_entropy\n",
    "                best_split_column = column_index\n",
    "                best_split_value = value\n",
    "    \n",
    "    return best_split_column, best_split_value"
   ]
  },
  {
   "cell_type": "code",
   "execution_count": 86,
   "metadata": {},
   "outputs": [
    {
     "data": {
      "text/plain": "(6, 88.5)"
     },
     "execution_count": 86,
     "metadata": {},
     "output_type": "execute_result"
    }
   ],
   "source": [
    "determine_best_split(data, potential_splits)"
   ]
  },
  {
   "cell_type": "markdown",
   "metadata": {},
   "source": [
    "### Decision Tree Algorithm"
   ]
  },
  {
   "cell_type": "code",
   "execution_count": 87,
   "metadata": {},
   "outputs": [],
   "source": [
    "\"\"\"\n",
    "In general, this decision tree will work as a recursive function to continually creating sub-tree's based on purity until\n",
    " all the values have been classified or 'labeled'\n",
    "\"\"\"\n",
    "def decision_tree_algorithm(df, counter=0, min_samples=2, max_depth=5):\n",
    "    \n",
    "    # data prep\n",
    "    if counter == 0:\n",
    "        global COLUMN_HEADERS\n",
    "        COLUMN_HEADERS = df.columns\n",
    "        data = df.values\n",
    "    else:\n",
    "        data = df           \n",
    "    \n",
    "    \n",
    "    # base cases\n",
    "    if (check_purity(data)) or (len(data) < min_samples) or (counter == max_depth):\n",
    "        classification = classify_data(data)\n",
    "        \n",
    "        return classification\n",
    "\n",
    "    \n",
    "    # recursive\n",
    "    else:    \n",
    "        counter += 1\n",
    "\n",
    "        # helper functions \n",
    "        potential_splits = get_potential_splits(data)\n",
    "        split_column, split_value = determine_best_split(data, potential_splits)\n",
    "        data_below, data_above = split_data(data, split_column, split_value)\n",
    "        \n",
    "        # instantiate sub-tree\n",
    "        feature_name = COLUMN_HEADERS[split_column]\n",
    "        question = \"{} <= {}\".format(feature_name, split_value)\n",
    "        sub_tree = {question: []}\n",
    "        \n",
    "        # find answers (recursion)\n",
    "        yes_answer = decision_tree_algorithm(data_below, counter, min_samples, max_depth)\n",
    "        no_answer = decision_tree_algorithm(data_above, counter, min_samples, max_depth)\n",
    "        \n",
    "        # If the answers are the same, then there is no point in asking the qestion.\n",
    "        # This could happen when the data is classified even though it is not pure\n",
    "        # yet (min_samples or max_depth base case).\n",
    "        if yes_answer == no_answer:\n",
    "            sub_tree = yes_answer\n",
    "        else:\n",
    "            sub_tree[question].append(yes_answer)\n",
    "            sub_tree[question].append(no_answer)\n",
    "        \n",
    "        return sub_tree"
   ]
  },
  {
   "cell_type": "code",
   "execution_count": 88,
   "metadata": {},
   "outputs": [
    {
     "name": "stdout",
     "output_type": "stream",
     "text": [
      "{'DBP <= 89.5': [{'SBP <= 136.25': [{'WC <= 85.5': [0.0,\n",
      "                                                    {'DBP <= 83.0': [0.0,\n",
      "                                                                     {'BMI <= 24.1570593505027': [1.0,\n",
      "                                                                                                  0.0]}]}]},\n",
      "                                    1.0]},\n",
      "                 1.0]}\n"
     ]
    }
   ],
   "source": [
    "tree = decision_tree_algorithm(test_df, max_depth=6)\n",
    "import pickle\n",
    "filename = 'Models/Hypertension.pickle'\n",
    "pickle.dump(tree, open(filename, 'wb'))\n",
    "pprint(tree)\n",
    "tree = ''\n",
    "tree = pickle.load(open(filename, 'rb'))"
   ]
  },
  {
   "cell_type": "code",
   "execution_count": 89,
   "metadata": {},
   "outputs": [
    {
     "data": {
      "text/plain": "Sex             2.000000\nFamilyHxHT      2.000000\nPoor            0.000000\nBMI            24.143655\nWC             92.000000\nSBP           110.000000\nDBP            80.000000\nHTN             0.000000\nName: 1151, dtype: float64"
     },
     "execution_count": 89,
     "metadata": {},
     "output_type": "execute_result"
    }
   ],
   "source": [
    "example = test_df.iloc[0]\n",
    "example"
   ]
  },
  {
   "cell_type": "code",
   "execution_count": 90,
   "metadata": {
    "pycharm": {
     "name": "#%%\n"
    }
   },
   "outputs": [],
   "source": [
    "def classify_example(example, tree):\n",
    "    question = list(tree.keys())[0]\n",
    "    feature_name, comparison_operator, value = question.split(\" \")\n",
    "\n",
    "    # ask question\n",
    "    if example[feature_name] <= float(value):\n",
    "        answer = tree[question][0]\n",
    "    else:\n",
    "        answer = tree[question][1]\n",
    "\n",
    "    # base case\n",
    "    if not isinstance(answer, dict):\n",
    "        return answer\n",
    "\n",
    "    # recursive part\n",
    "    else:\n",
    "        residual_tree = answer\n",
    "        return classify_example(example, residual_tree)"
   ]
  },
  {
   "cell_type": "code",
   "execution_count": 91,
   "metadata": {
    "scrolled": true
   },
   "outputs": [
    {
     "name": "stdout",
     "output_type": "stream",
     "text": [
      "{'DBP <= 89.5': [{'SBP <= 136.25': [{'WC <= 85.5': [0.0, {'DBP <= 83.0': [0.0, {'BMI <= 24.1570593505027': [1.0, 0.0]}]}]}, 1.0]}, 1.0]}\n"
     ]
    }
   ],
   "source": [
    "classify_example(example, tree)\n",
    "print(tree)"
   ]
  },
  {
   "cell_type": "code",
   "execution_count": 92,
   "metadata": {},
   "outputs": [],
   "source": [
    "def calculate_accuracy(df, tree):\n",
    "\n",
    "    df[\"classification\"] = df.apply(classify_example, axis=1, args=(tree,))\n",
    "    df[\"classification_correct\"] = df[\"classification\"] == df[\"HTN\"]\n",
    "    \n",
    "    accuracy = df[\"classification_correct\"].mean()\n",
    "    \n",
    "    return accuracy"
   ]
  },
  {
   "cell_type": "code",
   "execution_count": 93,
   "metadata": {},
   "outputs": [
    {
     "data": {
      "text/plain": "0.978448275862069"
     },
     "execution_count": 93,
     "metadata": {},
     "output_type": "execute_result"
    }
   ],
   "source": [
    "accuracy = calculate_accuracy(test_df, tree)\n",
    "accuracy"
   ]
  }
 ],
 "metadata": {
  "celltoolbar": "Raw Cell Format",
  "kernelspec": {
   "name": "python3",
   "language": "python",
   "display_name": "Python 3"
  },
  "language_info": {
   "codemirror_mode": {
    "name": "ipython",
    "version": 2
   },
   "file_extension": ".py",
   "mimetype": "text/x-python",
   "name": "python",
   "nbconvert_exporter": "python",
   "pygments_lexer": "ipython2",
   "version": "2.7.15"
  }
 },
 "nbformat": 4,
 "nbformat_minor": 2
}